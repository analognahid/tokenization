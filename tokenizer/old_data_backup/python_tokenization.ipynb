{
 "cells": [
  {
   "cell_type": "code",
   "execution_count": 1,
   "id": "34154e07-f417-41cf-aff8-67e14b1cf2e1",
   "metadata": {},
   "outputs": [
    {
     "name": "stdout",
     "output_type": "stream",
     "text": [
      "Instruction: mov eax, 0x1 ; Load 1 into eax\n",
      "Tokens: ['mov', 'eax', ',', '0x1']\n",
      "\n",
      "Instruction: add eax, ebx ; Add ebx to eax\n",
      "Tokens: ['add', 'eax', ',', 'ebx']\n",
      "\n",
      "Instruction: jmp 0x00400000 ; Jump to address\n",
      "Tokens: ['jmp', '0x00400000']\n",
      "\n",
      "Instruction: lea ecx, [ebx+4] ; Load effective address\n",
      "Tokens: ['lea', 'ecx', ',', '[', 'ebx', '+', '4', ']']\n",
      "\n"
     ]
    }
   ],
   "source": [
    "import re\n",
    "\n",
    "def tokenize_x86(instruction):\n",
    "    \"\"\"\n",
    "    Tokenizes a single x86 assembly instruction into components like mnemonics, registers, and operands.\n",
    "    \"\"\"\n",
    "    # Define patterns for tokens\n",
    "    token_pattern = r\"\"\"\n",
    "        ;.*$             |  # Comments (semicolon to end of line)\n",
    "        0x[a-fA-F0-9]+   |  # Hexadecimal numbers\n",
    "        \\b\\d+\\b          |  # Decimal numbers\n",
    "        [a-zA-Z_][a-zA-Z0-9_]* |  # Mnemonics, labels, or registers\n",
    "        \\[|\\]|,|:|\\.      |  # Brackets, comma, colon, dot (symbols)\n",
    "        [+\\-*/()]         |  # Operators\n",
    "        [\\S]+               # Catch-all for any remaining symbols\n",
    "    \"\"\"\n",
    "    # Compile regex pattern with verbose mode for readability\n",
    "    token_regex = re.compile(token_pattern, re.VERBOSE)\n",
    "\n",
    "    # Find all matches in the instruction\n",
    "    tokens = token_regex.findall(instruction)\n",
    "\n",
    "    # Remove comments and whitespace\n",
    "    tokens = [token for token in tokens if not token.startswith(\";\")]\n",
    "\n",
    "    return tokens\n",
    "\n",
    "\n",
    "# Example usage\n",
    "if __name__ == \"__main__\":\n",
    "    # Sample x86 assembly instructions\n",
    "    instructions = [\n",
    "        \"mov eax, 0x1 ; Load 1 into eax\",\n",
    "        \"add eax, ebx ; Add ebx to eax\",\n",
    "        \"jmp 0x00400000 ; Jump to address\",\n",
    "        \"lea ecx, [ebx+4] ; Load effective address\"\n",
    "    ]\n",
    "\n",
    "    # Tokenize each instruction\n",
    "    for instr in instructions:\n",
    "        tokens = tokenize_x86(instr)\n",
    "        print(f\"Instruction: {instr}\")\n",
    "        print(f\"Tokens: {tokens}\\n\")\n"
   ]
  },
  {
   "cell_type": "code",
   "execution_count": null,
   "id": "03a228e8-0e0c-4399-97c9-f2a80e583304",
   "metadata": {},
   "outputs": [],
   "source": []
  }
 ],
 "metadata": {
  "kernelspec": {
   "display_name": "Python 3 (ipykernel)",
   "language": "python",
   "name": "python3"
  },
  "language_info": {
   "codemirror_mode": {
    "name": "ipython",
    "version": 3
   },
   "file_extension": ".py",
   "mimetype": "text/x-python",
   "name": "python",
   "nbconvert_exporter": "python",
   "pygments_lexer": "ipython3",
   "version": "3.12.2"
  }
 },
 "nbformat": 4,
 "nbformat_minor": 5
}
