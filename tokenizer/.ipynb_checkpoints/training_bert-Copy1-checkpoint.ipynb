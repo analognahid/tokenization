{
 "cells": [
  {
   "cell_type": "code",
   "execution_count": 1,
   "id": "fdf6515d",
   "metadata": {},
   "outputs": [],
   "source": [
    "\n",
    "from __future__ import print_function\n",
    "from collections import defaultdict\n",
    "import os\n",
    "import sys\n",
    "import posixpath\n",
    "\n",
    "from elftools.elf.elffile import ELFFile\n",
    "\n",
    "import os\n",
    "import json \n",
    "\n",
    "import sys,os\n",
    "\n"
   ]
  },
  {
   "cell_type": "code",
   "execution_count": 2,
   "id": "544c986e-8a91-4d34-b3d4-a99fa6552924",
   "metadata": {},
   "outputs": [],
   "source": [
    "\n",
    "\n",
    "special_tokens = [\"[address]\", \"[mask]\"] \n"
   ]
  },
  {
   "cell_type": "code",
   "execution_count": null,
   "id": "3effc630",
   "metadata": {},
   "outputs": [],
   "source": []
  },
  {
   "cell_type": "code",
   "execution_count": 3,
   "id": "4dadfaae-304d-43d5-8732-be9a6a18cce3",
   "metadata": {},
   "outputs": [
    {
     "name": "stdout",
     "output_type": "stream",
     "text": [
      "Functions Count:  21 \n",
      "\n"
     ]
    }
   ],
   "source": [
    "DATA_PATH = \"/home/raisul/ANALYSED_DATA/mlm_x86_O2_d4_single_functions\"\n",
    "\n",
    "json_files = [os.path.join(DATA_PATH, f) for f in os.listdir(DATA_PATH) ]\n",
    "\n",
    "\n",
    "\n",
    "def read_corpus():\n",
    "\n",
    "    all = []\n",
    "\n",
    "    for k, j_file in enumerate(json_files):\n",
    "        if k>20:\n",
    "            break\n",
    "        try:\n",
    "            with open(j_file, 'r') as file:\n",
    "                funct = file.read()\n",
    "                funct = '\\n'.join([line.split('|')[1] for line in funct.split('\\n')[:-1]])\n",
    "                \n",
    "                all.append(funct)\n",
    "        except :\n",
    "            pass\n",
    "    return all\n",
    "    \n",
    "\n",
    "\n",
    "training_corpus = read_corpus()\n",
    "\n",
    "\n",
    "# def get_training_corpus():\n",
    "#     for i in range(0, len(training_corpus), 1000):\n",
    "#         yield text[i : i + 1000]\n",
    "        \n",
    "# text = text[0:5000]\n",
    "print(\"Functions Count: \",len(text), '\\n')\n",
    "example = text[10]\n",
    "\n",
    "\n"
   ]
  },
  {
   "cell_type": "code",
   "execution_count": 4,
   "id": "824c419d",
   "metadata": {},
   "outputs": [
    {
     "data": {
      "text/plain": [
       "'[PAD]'"
      ]
     },
     "execution_count": 4,
     "metadata": {},
     "output_type": "execute_result"
    }
   ],
   "source": [
    "from transformers import AutoTokenizer\n",
    "\n",
    "old_tokenizer = AutoTokenizer.from_pretrained(\"bert-base-uncased\")\n",
    "old_tokenizer.pad_token\n"
   ]
  },
  {
   "cell_type": "code",
   "execution_count": 5,
   "id": "85166f04-d2a3-4d06-a887-c98af85cdb0c",
   "metadata": {},
   "outputs": [
    {
     "name": "stdout",
     "output_type": "stream",
     "text": [
      "[PAD]\n"
     ]
    }
   ],
   "source": [
    "print(old_tokenizer.pad_token)"
   ]
  },
  {
   "cell_type": "code",
   "execution_count": 6,
   "id": "d2662fb5-8096-489e-9e09-806391c79563",
   "metadata": {},
   "outputs": [
    {
     "ename": "NameError",
     "evalue": "name 'training_corpus' is not defined",
     "output_type": "error",
     "traceback": [
      "\u001b[0;31m---------------------------------------------------------------------------\u001b[0m",
      "\u001b[0;31mNameError\u001b[0m                                 Traceback (most recent call last)",
      "Cell \u001b[0;32mIn[6], line 1\u001b[0m\n\u001b[0;32m----> 1\u001b[0m example \u001b[38;5;241m=\u001b[39m \u001b[43mtraining_corpus\u001b[49m[\u001b[38;5;241m100\u001b[39m]\n\u001b[1;32m      2\u001b[0m \u001b[38;5;28mprint\u001b[39m(example)\n",
      "\u001b[0;31mNameError\u001b[0m: name 'training_corpus' is not defined"
     ]
    }
   ],
   "source": [
    "\n",
    "example = training_corpus[100]\n",
    "print(example)"
   ]
  },
  {
   "cell_type": "code",
   "execution_count": null,
   "id": "705a3ad3",
   "metadata": {},
   "outputs": [],
   "source": [
    "\n",
    "\n",
    "tokens = old_tokenizer.tokenize(example)\n",
    "tokens"
   ]
  },
  {
   "cell_type": "code",
   "execution_count": null,
   "id": "602f19b9",
   "metadata": {},
   "outputs": [],
   "source": [
    "tokenizer = old_tokenizer.train_new_from_iterator(training_corpus, vocab_size=1000, min_frequency=2 , additional_special_tokens = special_tokens )"
   ]
  },
  {
   "cell_type": "code",
   "execution_count": null,
   "id": "59e433cc",
   "metadata": {},
   "outputs": [],
   "source": [
    "tokens = tokenizer.tokenize(example)\n",
    "print(tokens)"
   ]
  },
  {
   "cell_type": "code",
   "execution_count": null,
   "id": "b38fe2b5-b5fc-4a27-80c4-9e5565300e05",
   "metadata": {},
   "outputs": [],
   "source": [
    "print(tokenizer.pad_token) "
   ]
  },
  {
   "cell_type": "code",
   "execution_count": null,
   "id": "08cf63e8",
   "metadata": {},
   "outputs": [],
   "source": [
    "tokenizer.save_pretrained(\"./../models/bert-tokenizer_trained\")"
   ]
  },
  {
   "cell_type": "code",
   "execution_count": null,
   "id": "cedbac6d",
   "metadata": {},
   "outputs": [],
   "source": []
  }
 ],
 "metadata": {
  "kernelspec": {
   "display_name": "pytorch",
   "language": "python",
   "name": "pytorch"
  },
  "language_info": {
   "codemirror_mode": {
    "name": "ipython",
    "version": 3
   },
   "file_extension": ".py",
   "mimetype": "text/x-python",
   "name": "python",
   "nbconvert_exporter": "python",
   "pygments_lexer": "ipython3",
   "version": "3.12.6"
  }
 },
 "nbformat": 4,
 "nbformat_minor": 5
}
