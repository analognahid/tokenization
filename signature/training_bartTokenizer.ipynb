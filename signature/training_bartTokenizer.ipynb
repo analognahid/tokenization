{
 "cells": [
  {
   "cell_type": "code",
   "execution_count": 1,
   "id": "fdf6515d",
   "metadata": {},
   "outputs": [],
   "source": [
    "\n",
    "from __future__ import print_function\n",
    "from collections import defaultdict\n",
    "import os\n",
    "import sys\n",
    "import posixpath\n",
    "\n",
    "from elftools.elf.elffile import ELFFile\n",
    "\n",
    "import os\n",
    "import json \n",
    "\n",
    "import sys,os\n",
    "\n"
   ]
  },
  {
   "cell_type": "code",
   "execution_count": null,
   "id": "544c986e-8a91-4d34-b3d4-a99fa6552924",
   "metadata": {},
   "outputs": [],
   "source": [
    "\n"
   ]
  },
  {
   "cell_type": "code",
   "execution_count": 2,
   "id": "3effc630",
   "metadata": {},
   "outputs": [],
   "source": [
    "# from transformers import AutoTokenizer\n",
    "\n",
    "import torch\n",
    "from transformers import AutoTokenizer\n",
    "\n",
    "\n",
    "\n",
    "# old_tokenizer = AutoTokenizer.from_pretrained(\"microsoft/MiniLM-L12-H384-uncased\")\n",
    "# old_tokenizer.pad_token\n",
    "from transformers import BartForConditionalGeneration, BartTokenizer\n",
    "\n",
    "# old_tokenizer = BartTokenizer.from_pretrained(\"facebook/bart-large\")\n",
    "old_tokenizer = AutoTokenizer.from_pretrained(\"facebook/bart-large\")\n",
    "# tok = BartTokenizer.from_pretrained(\"facebook/bart-large\")\n",
    "# example_english_phrase = \"UN Chief Says There Is No <mask> in Syria\"\n",
    "# batch = tok(example_english_phrase, return_tensors=\"pt\")\n",
    "# generated_ids = model.generate(batch[\"input_ids\"])\n",
    "# assert tok.batch_decode(generated_ids, skip_special_tokens=True) == [\n",
    "#     \"UN Chief Says There Is No Plan to Stop Chemical Weapons in Syria\"\n",
    "# ]\n"
   ]
  },
  {
   "cell_type": "code",
   "execution_count": 3,
   "id": "6e89f575-55ff-410f-80e2-4682eb5501d8",
   "metadata": {},
   "outputs": [
    {
     "name": "stdout",
     "output_type": "stream",
     "text": [
      "</s> <pad> <s>\n"
     ]
    }
   ],
   "source": [
    "sep_token = old_tokenizer.sep_token\n",
    "pad_token = old_tokenizer.pad_token\n",
    "cls_token = old_tokenizer.cls_token\n",
    "\n",
    "print(sep_token , pad_token , cls_token)"
   ]
  },
  {
   "cell_type": "code",
   "execution_count": 4,
   "id": "4dadfaae-304d-43d5-8732-be9a6a18cce3",
   "metadata": {},
   "outputs": [
    {
     "name": "stdout",
     "output_type": "stream",
     "text": [
      "Functions Count:  80000 \n",
      "\n",
      "['2</s>8']\n",
      "1566\n"
     ]
    }
   ],
   "source": [
    "MAX_TOKEN_LEN = 1024\n",
    "\n",
    "\n",
    "\n",
    "# disassembly_decimal disassembly_all_number_to_words disassembly_decimal  disassembly_addresses_to_words\n",
    "data_key = \"disassembly_decimal\"\n",
    "\n",
    "\n",
    "\n",
    "\n",
    "\n",
    "# def generate_param_string(param_list):\n",
    "\n",
    "\n",
    "#     if len(param_list)==0:\n",
    "#         return 'void'\n",
    "#     else:\n",
    "#         return \" \".join(param_list)\n",
    "def unique_items(list_of_lists):\n",
    "    # Flatten the list of lists\n",
    "    print(list_of_lists[3].split())\n",
    "    flattened_list = [item for sublist in list_of_lists for item in sublist.split()]\n",
    "    # Convert the flattened list to a set to remove duplicates\n",
    "    unique_elements = set(flattened_list)\n",
    "    return list(unique_elements)\n",
    "\n",
    "\n",
    "\n",
    "\n",
    "\n",
    "\n",
    "DATA_PATH = '/home/raisul/ANALYSED_DATA/tokenization_data_single_functions'\n",
    "\n",
    "TRAIN_DATA_PATH  ='/home/raisul/ANALYSED_DATA/tokenization_data_single_functions/train/'\n",
    "\n",
    "TEST_DATA_PATH   = '/home/raisul/ANALYSED_DATA/tokenization_data_single_functions/test/'\n",
    "\n",
    "\n",
    "\n",
    "\n",
    "train_json_files = [os.path.join(TRAIN_DATA_PATH, f) for f in os.listdir(TRAIN_DATA_PATH) ]\n",
    "\n",
    "test_json_files = [os.path.join(TEST_DATA_PATH, f) for f in os.listdir(TEST_DATA_PATH) ]\n",
    "\n",
    "\n",
    "\n",
    "\n",
    "all_types = ['*short', '*ulong', 'int', 'ulonglong', '*longlong', 'None', 'short', 'char', '*struct', '*long', '*char', 'double', 'uint', 'uchar', '*float', 'longlong', 'long', '*void', 'float', 'bool', '*int', '*ushort', '*ulonglong', '*uchar', 'ushort', 'void', '*double', 'ulong', '*uint', '*bool']\n",
    "all_types_dict = {}\n",
    "for k,type in enumerate(all_types):\n",
    "    all_types_dict[type] = str(k)\n",
    "\n",
    "def read_corpus(json_files):\n",
    "\n",
    "    all = []\n",
    "    all_params = []\n",
    "    all_returns = []\n",
    "    all_signatures = []\n",
    "\n",
    "    for k, j_file in enumerate(json_files):\n",
    "        # if k>1000:\n",
    "        #     break\n",
    "        try:\n",
    "\n",
    "            with open(j_file, 'r') as file:\n",
    "                data = json.load(file)\n",
    "\n",
    "                funct = data[data_key]['input']\n",
    "                \n",
    "                all.append(funct)\n",
    "\n",
    "                param_string = \"\"\n",
    "\n",
    "                if len(data['signature']['paramTypes'])==0:\n",
    "                    param_string = all_types_dict['void']\n",
    "                    \n",
    "                for v,type in enumerate(data['signature']['paramTypes']):\n",
    "                    if v==0:\n",
    "                        param_string =  all_types_dict[type]\n",
    "                    else:\n",
    "                        param_string = param_string + sep_token +all_types_dict[type]\n",
    "                \n",
    "                all_params.append( param_string )\n",
    "                all_returns.append(  data['signature']['returnType']  )\n",
    "                all_signatures.append(param_string + sep_token + all_types_dict[data['signature']['returnType']] )\n",
    "        except Exception as e: \n",
    "            print(e)\n",
    "    return all , all_params , all_returns , all_signatures\n",
    "    \n",
    "\n",
    "\n",
    "train_text , train_params , train_returns, train_signatures = read_corpus(train_json_files)\n",
    "\n",
    "test_text  , test_params  , test_returns , test_signatures = read_corpus(test_json_files)\n",
    "\n",
    "\n",
    "\n",
    "        \n",
    "# text = text[0:5000]\n",
    "print(\"Functions Count: \",len(train_text), '\\n')\n",
    "example = train_text[10]\n",
    "text = train_text + test_text\n",
    "signatures = train_signatures + test_signatures\n",
    "input_output_data = []\n",
    "for i in range(len(text)):\n",
    "    input_output_data.append(text[i])\n",
    "    input_output_data.append(signatures[i])\n",
    "    \n",
    "unique_types = unique_items(train_params)\n",
    "print(len(unique_types))\n",
    "\n",
    "\n",
    "\n",
    "\n",
    "def get_training_corpus():\n",
    "    for i in range(0, len(text), 1000):\n",
    "        yield input_output_data[i : i + 1000]\n"
   ]
  },
  {
   "cell_type": "code",
   "execution_count": null,
   "id": "824c419d",
   "metadata": {},
   "outputs": [],
   "source": []
  },
  {
   "cell_type": "code",
   "execution_count": null,
   "id": "85166f04-d2a3-4d06-a887-c98af85cdb0c",
   "metadata": {},
   "outputs": [],
   "source": []
  },
  {
   "cell_type": "code",
   "execution_count": 5,
   "id": "602f19b9",
   "metadata": {},
   "outputs": [
    {
     "name": "stdout",
     "output_type": "stream",
     "text": [
      "\n",
      "\n",
      "\n"
     ]
    },
    {
     "data": {
      "text/plain": [
       "2"
      ]
     },
     "execution_count": 5,
     "metadata": {},
     "output_type": "execute_result"
    }
   ],
   "source": [
    "\n",
    "tokenizer = old_tokenizer.train_new_from_iterator(get_training_corpus() , vocab_size =old_tokenizer.vocab_size)\n",
    "special_tokens = {\"additional_special_tokens\": [\"\\n\" , ' ']}\n",
    "tokenizer.add_special_tokens(special_tokens)"
   ]
  },
  {
   "cell_type": "code",
   "execution_count": 6,
   "id": "08cf63e8",
   "metadata": {},
   "outputs": [
    {
     "data": {
      "text/plain": [
       "('./../models/bart_ASIS/tokenizer_config.json',\n",
       " './../models/bart_ASIS/special_tokens_map.json',\n",
       " './../models/bart_ASIS/vocab.json',\n",
       " './../models/bart_ASIS/merges.txt',\n",
       " './../models/bart_ASIS/added_tokens.json',\n",
       " './../models/bart_ASIS/tokenizer.json')"
      ]
     },
     "execution_count": 6,
     "metadata": {},
     "output_type": "execute_result"
    }
   ],
   "source": [
    "tokenizer.save_pretrained(\"./../models/bart_ASIS\")"
   ]
  },
  {
   "cell_type": "code",
   "execution_count": 7,
   "id": "cedbac6d",
   "metadata": {},
   "outputs": [
    {
     "data": {
      "text/plain": [
       "'25</s>2'"
      ]
     },
     "execution_count": 7,
     "metadata": {},
     "output_type": "execute_result"
    }
   ],
   "source": [
    "signatures[1]"
   ]
  },
  {
   "cell_type": "code",
   "execution_count": null,
   "id": "7e31b030-2e1f-420e-a071-748829f7be5c",
   "metadata": {},
   "outputs": [],
   "source": []
  }
 ],
 "metadata": {
  "kernelspec": {
   "display_name": "pytorch",
   "language": "python",
   "name": "pytorch"
  },
  "language_info": {
   "codemirror_mode": {
    "name": "ipython",
    "version": 3
   },
   "file_extension": ".py",
   "mimetype": "text/x-python",
   "name": "python",
   "nbconvert_exporter": "python",
   "pygments_lexer": "ipython3",
   "version": "3.12.6"
  }
 },
 "nbformat": 4,
 "nbformat_minor": 5
}
